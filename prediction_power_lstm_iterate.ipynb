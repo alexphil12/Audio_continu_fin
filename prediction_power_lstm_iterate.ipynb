{
  "cells": [
    {
      "cell_type": "markdown",
      "metadata": {
        "id": "view-in-github",
        "colab_type": "text"
      },
      "source": [
        "<a href=\"https://colab.research.google.com/github/alexphil12/Audio_continu_fin/blob/main/prediction_power_lstm_iterate.ipynb\" target=\"_parent\"><img src=\"https://colab.research.google.com/assets/colab-badge.svg\" alt=\"Open In Colab\"/></a>"
      ]
    },
    {
      "cell_type": "code",
      "execution_count": 5,
      "metadata": {
        "id": "1BAyr7fsvDxC"
      },
      "outputs": [],
      "source": [
        "import torch\n",
        "import torch.nn as nn\n",
        "\n",
        "import seaborn as sns\n",
        "import numpy as np\n",
        "import pandas as pd\n",
        "import matplotlib.pyplot as plt\n",
        "import copy as cp\n",
        "%matplotlib inline\n",
        "from sklearn.metrics import mean_squared_error\n",
        "from sklearn.metrics import mean_absolute_error"
      ]
    },
    {
      "cell_type": "code",
      "execution_count": 6,
      "metadata": {
        "id": "4zcZXhe7u6yE"
      },
      "outputs": [],
      "source": [
        "from sklearn.preprocessing import MinMaxScaler,StandardScaler"
      ]
    },
    {
      "cell_type": "code",
      "execution_count": 7,
      "metadata": {
        "id": "AMfjxPlMBjtf"
      },
      "outputs": [],
      "source": [
        "mesure=[\"Fecha\",\"Hora\"];\n",
        "mesure.append(\"Voltaje_(R)_[V]\")\t\n",
        "mesure.append(\"Voltaje_(S)_[V]\")\t\n",
        "mesure.append(\"Voltaje_(T)_[V]\")\t\n",
        "mesure.append(\"Voltaje_(RS)_[V]\")\t\n",
        "mesure.append(\"Voltaje_(ST)_[V]\")\t\n",
        "mesure.append(\"Voltaje_(TR)_[V]\")\t\n",
        "mesure.append(\"Corriente_R_[A]\")\t\n",
        "mesure.append(\"Corriente_S_[A]\")\t\n",
        "mesure.append(\"Corriente_T_[A]\")\t\n",
        "mesure.append(\"Potencia_R_[VA]\")\t\n",
        "mesure.append(\"Potencia_S_[VA]\")\t\n",
        "mesure.append(\"Potencia_T_[VA]\")\t\n",
        "mesure.append(\"Potencia_R_[W]\")\t\n",
        "mesure.append(\"Potencia_S_[W]\")\t\n",
        "mesure.append(\"Potencia_T_[W]\")\t\n",
        "mesure.append(\"Potencia_R_[VAR]\")\t\n",
        "mesure.append(\"Potencia_S_[VAR]\")\t\n",
        "mesure.append(\"Potencia_T_[VAR]\")\t\n",
        "mesure.append(\"Corriente_N_[A]\")\t\n",
        "mesure.append(\"Frecuencia_[Hz]\")\t\n",
        "mesure.append(\"not_sure_1\")\t\n",
        "mesure.append(\"not_sure_2\")\t\n",
        "mesure.append(\"not_sure_3\")\t\n",
        "mesure.append(\"Potencia_3F_[KVA]\")\t\n",
        "mesure.append(\"Potencia_3F_[W]\")\t\n",
        "mesure.append(\"Potencia_3F_[VAR]\")\t\n",
        "mesure.append(\"Factor de Potencia\")"
      ]
    },
    {
      "cell_type": "code",
      "execution_count": 8,
      "metadata": {
        "id": "Rnf1doKA8G5W"
      },
      "outputs": [],
      "source": [
        "data1=pd.read_csv(\"/content/df_cov_continu_1_1.txt\",sep=\",\",header=0,names=mesure)\n",
        "data2=pd.read_csv(\"/content/df_cov_continu_1_2.txt\",sep=\",\",header=0,names=mesure)\n",
        "data3=pd.read_csv(\"/content/df_cov_continu_1_3.txt\",sep=\",\",header=0,names=mesure)\n",
        "data4=pd.read_csv(\"/content/df_cov_continu_1_4.txt\",sep=\",\",header=0,names=mesure)"
      ]
    },
    {
      "cell_type": "code",
      "execution_count": 9,
      "metadata": {
        "id": "2Wr6dnEm8G1_"
      },
      "outputs": [],
      "source": [
        "train_data_1=data1.iloc[0:round(10253*0.8),:]\n",
        "\n",
        "test_data_1=data1.iloc[round(10253*0.8):10253,:]\n",
        "\n",
        "train_data_2=data1.iloc[0:round(9641*0.8),:]\n",
        "\n",
        "test_data_2=data1.iloc[round(9641*0.8):9641,:]\n",
        "\n",
        "train_data_3=data3.iloc[0:round(8358*0.8),:]\n",
        "\n",
        "test_data_3=data3.iloc[round(8358*0.8):8358,:]\n",
        "\n",
        "train_data_4=data4.iloc[0:round(5363*0.8),:]\n",
        "\n",
        "test_data_4=data4.iloc[round(5363*0.8):5363,:]"
      ]
    },
    {
      "cell_type": "code",
      "execution_count": 10,
      "metadata": {
        "id": "hhtIgJ7W8GyJ",
        "colab": {
          "base_uri": "https://localhost:8080/",
          "height": 599
        },
        "outputId": "0bd52f90-a45a-476c-b7c3-c97aa0d19462"
      },
      "outputs": [
        {
          "output_type": "execute_result",
          "data": {
            "text/plain": [
              "<matplotlib.colorbar.Colorbar at 0x7fbfc238a790>"
            ]
          },
          "metadata": {},
          "execution_count": 10
        },
        {
          "output_type": "display_data",
          "data": {
            "text/plain": [
              "<Figure size 720x720 with 2 Axes>"
            ],
            "image/png": "[encoded data removed]"
          },
          "metadata": {
            "needs_background": "light"
          }
        }
      ],
      "source": [
        "plt.figure(figsize=(10,10))\n",
        "plt.imshow(data1.corr(),cmap=\"gray\")\n",
        "plt.colorbar()"
      ]
    },
    {
      "cell_type": "code",
      "execution_count": 11,
      "metadata": {
        "id": "aaI0pQaZ8GsE"
      },
      "outputs": [],
      "source": [
        "#train_data_1.drop(columns=[mesure[0],mesure[3],mesure[4],mesure[1],mesure[5],mesure[6],mesure[7],mesure[8],mesure[9],mesure[10],mesure[14],mesure[15],mesure[16],mesure[17],mesure[18],mesure[19],mesure[23],mesure[24],mesure[25],mesure[26]],inplace=True)\n",
        "#test_data_1.drop(columns=[mesure[0],mesure[3],mesure[4],mesure[1],mesure[5],mesure[6],mesure[7],mesure[8],mesure[9],mesure[10],mesure[14],mesure[15],mesure[16],mesure[17],mesure[18],mesure[19],mesure[23],mesure[24],mesure[25],mesure[26]],inplace=True)"
      ]
    },
    {
      "cell_type": "code",
      "execution_count": 12,
      "metadata": {
        "id": "4zgWyn8Ju9g2",
        "colab": {
          "base_uri": "https://localhost:8080/",
          "height": 595
        },
        "outputId": "60304baa-10fa-4f31-a5e0-f2ac0b0653f9"
      },
      "outputs": [
        {
          "output_type": "execute_result",
          "data": {
            "text/plain": [
              "<matplotlib.colorbar.Colorbar at 0x7fbfc1ddcb10>"
            ]
          },
          "metadata": {},
          "execution_count": 12
        },
        {
          "output_type": "display_data",
          "data": {
            "text/plain": [
              "<Figure size 720x720 with 2 Axes>"
            ],
            "image/png": "[encoded data removed]"
          },
          "metadata": {
            "needs_background": "light"
          }
        }
      ],
      "source": [
        "RSG_train_1 = train_data_1.iloc[:,2].values\n",
        "RSG_test_1=test_data_1.iloc[:,2].values\n",
        "RSG_train_2=train_data_2.iloc[:,2].values\n",
        "RSG_test_2=train_data_2.iloc[:,2].values\n",
        "RSG_train_3 = train_data_3.iloc[:,2].values\n",
        "RSG_test_3=test_data_3.iloc[:,2].values\n",
        "RSG_train_4=train_data_4.iloc[:,2].values\n",
        "RSG_test_4=train_data_4.iloc[:,2].values\n",
        "plt.figure(figsize=(10,10))\n",
        "plt.imshow(train_data_1.corr(),cmap=\"gray\")\n",
        "plt.colorbar()"
      ]
    },
    {
      "cell_type": "code",
      "execution_count": 13,
      "metadata": {
        "id": "MwQ0E2y8O-LP",
        "colab": {
          "base_uri": "https://localhost:8080/"
        },
        "outputId": "1b56ab4b-6199-4d1d-8c4f-9477f2d9f8d7"
      },
      "outputs": [
        {
          "output_type": "execute_result",
          "data": {
            "text/plain": [
              "MinMaxScaler()"
            ]
          },
          "metadata": {},
          "execution_count": 13
        }
      ],
      "source": [
        "scaler = MinMaxScaler()\n",
        "scaler2=MinMaxScaler()\n",
        "scaler3=MinMaxScaler()\n",
        "scaler4=MinMaxScaler()\n",
        "RSG_train_1=np.reshape(RSG_train_1,(-1,1))\n",
        "RSG_test_1=np.reshape(RSG_test_1,(-1,1))\n",
        "RSG_train_2=np.reshape(RSG_train_2,(-1,1))\n",
        "RSG_test_2=np.reshape(RSG_test_2,(-1,1))\n",
        "RSG_train_3=np.reshape(RSG_train_3,(-1,1))\n",
        "RSG_test_3=np.reshape(RSG_test_3,(-1,1))\n",
        "RSG_train_4=np.reshape(RSG_train_4,(-1,1))\n",
        "RSG_test_4=np.reshape(RSG_test_4,(-1,1))\n",
        "scaler.fit(RSG_train_1)\n",
        "scaler2.fit(RSG_train_2)\n",
        "scaler3.fit(RSG_train_3)\n",
        "scaler4.fit(RSG_train_4)"
      ]
    },
    {
      "cell_type": "code",
      "execution_count": 14,
      "metadata": {
        "id": "vnkm2G3dO-Gm"
      },
      "outputs": [],
      "source": [
        "scaled_1_train = scaler.transform(RSG_train_1)\n",
        "scaled_1_test = scaler.transform(RSG_test_1)\n",
        "scaled_2_train=scaler2.transform(RSG_train_2)\n",
        "scaled_2_test=scaler2.transform(RSG_test_2)\n",
        "scaled_3_train = scaler.transform(RSG_train_3)\n",
        "scaled_3_test = scaler.transform(RSG_test_3)\n",
        "scaled_4_train=scaler2.transform(RSG_train_4)\n",
        "scaled_4_test=scaler2.transform(RSG_test_4)"
      ]
    },
    {
      "cell_type": "code",
      "execution_count": 15,
      "metadata": {
        "id": "omMrkHkvS4Dv"
      },
      "outputs": [],
      "source": [
        "from keras.preprocessing.sequence import TimeseriesGenerator"
      ]
    },
    {
      "cell_type": "code",
      "execution_count": 16,
      "metadata": {
        "id": "N1wGcVmaS4Bt"
      },
      "outputs": [],
      "source": [
        "n_input = 20\n",
        "n_features = 0\n",
        "train_generator_1 = TimeseriesGenerator(scaled_1_train, scaled_1_train, length=n_input, batch_size=10)\n",
        "test_generator_1=TimeseriesGenerator(scaled_1_test, scaled_1_test, length=n_input, batch_size=10)\n",
        "train_generator_2 = TimeseriesGenerator(scaled_2_train, scaled_2_train, length=n_input, batch_size=10)\n",
        "test_generator_2=TimeseriesGenerator(scaled_2_test, scaled_2_test, length=n_input, batch_size=10)\n",
        "train_generator_3 = TimeseriesGenerator(scaled_3_train, scaled_3_train, length=n_input, batch_size=10)\n",
        "test_generator_3=TimeseriesGenerator(scaled_3_test, scaled_3_test, length=n_input, batch_size=10)\n",
        "train_generator_4 = TimeseriesGenerator(scaled_4_train, scaled_4_train, length=n_input, batch_size=10)\n",
        "test_generator_4=TimeseriesGenerator(scaled_4_test, scaled_4_test, length=n_input, batch_size=10)"
      ]
    },
    {
      "cell_type": "code",
      "execution_count": 17,
      "metadata": {
        "id": "IpsxJivfS3-o"
      },
      "outputs": [],
      "source": [
        "X,y = train_generator_1[0]\n",
        "X1,y1=test_generator_2[0]"
      ]
    },
    {
      "cell_type": "code",
      "execution_count": 18,
      "metadata": {
        "id": "RMnJqpZ2S37r",
        "colab": {
          "base_uri": "https://localhost:8080/"
        },
        "outputId": "c03bf489-b30b-47e2-c459-daa2a4d51e48"
      },
      "outputs": [
        {
          "output_type": "stream",
          "name": "stdout",
          "text": [
            "Predicción: \n",
            " [[0.47663551]\n",
            " [0.54413292]\n",
            " [0.53569574]\n",
            " [0.44483385]\n",
            " [0.41679647]\n",
            " [0.38200935]\n",
            " [0.38875909]\n",
            " [0.43444964]\n",
            " [0.43029595]\n",
            " [0.37889408]]\n",
            "data: \n",
            " [[[0.57178089]\n",
            "  [0.5912513 ]\n",
            "  [0.59800104]\n",
            "  [0.47287124]\n",
            "  [0.40122015]\n",
            "  [0.36863967]\n",
            "  [0.30944964]\n",
            "  [0.2836189 ]\n",
            "  [0.47637591]\n",
            "  [0.29776739]\n",
            "  [0.20950156]\n",
            "  [0.23650052]\n",
            "  [0.28011423]\n",
            "  [0.40784008]\n",
            "  [0.33696781]\n",
            "  [0.29140706]\n",
            "  [0.28712357]\n",
            "  [0.2645379 ]\n",
            "  [0.30698339]\n",
            "  [0.32113188]]\n",
            "\n",
            " [[0.5912513 ]\n",
            "  [0.59800104]\n",
            "  [0.47287124]\n",
            "  [0.40122015]\n",
            "  [0.36863967]\n",
            "  [0.30944964]\n",
            "  [0.2836189 ]\n",
            "  [0.47637591]\n",
            "  [0.29776739]\n",
            "  [0.20950156]\n",
            "  [0.23650052]\n",
            "  [0.28011423]\n",
            "  [0.40784008]\n",
            "  [0.33696781]\n",
            "  [0.29140706]\n",
            "  [0.28712357]\n",
            "  [0.2645379 ]\n",
            "  [0.30698339]\n",
            "  [0.32113188]\n",
            "  [0.47663551]]\n",
            "\n",
            " [[0.59800104]\n",
            "  [0.47287124]\n",
            "  [0.40122015]\n",
            "  [0.36863967]\n",
            "  [0.30944964]\n",
            "  [0.2836189 ]\n",
            "  [0.47637591]\n",
            "  [0.29776739]\n",
            "  [0.20950156]\n",
            "  [0.23650052]\n",
            "  [0.28011423]\n",
            "  [0.40784008]\n",
            "  [0.33696781]\n",
            "  [0.29140706]\n",
            "  [0.28712357]\n",
            "  [0.2645379 ]\n",
            "  [0.30698339]\n",
            "  [0.32113188]\n",
            "  [0.47663551]\n",
            "  [0.54413292]]\n",
            "\n",
            " [[0.47287124]\n",
            "  [0.40122015]\n",
            "  [0.36863967]\n",
            "  [0.30944964]\n",
            "  [0.2836189 ]\n",
            "  [0.47637591]\n",
            "  [0.29776739]\n",
            "  [0.20950156]\n",
            "  [0.23650052]\n",
            "  [0.28011423]\n",
            "  [0.40784008]\n",
            "  [0.33696781]\n",
            "  [0.29140706]\n",
            "  [0.28712357]\n",
            "  [0.2645379 ]\n",
            "  [0.30698339]\n",
            "  [0.32113188]\n",
            "  [0.47663551]\n",
            "  [0.54413292]\n",
            "  [0.53569574]]\n",
            "\n",
            " [[0.40122015]\n",
            "  [0.36863967]\n",
            "  [0.30944964]\n",
            "  [0.2836189 ]\n",
            "  [0.47637591]\n",
            "  [0.29776739]\n",
            "  [0.20950156]\n",
            "  [0.23650052]\n",
            "  [0.28011423]\n",
            "  [0.40784008]\n",
            "  [0.33696781]\n",
            "  [0.29140706]\n",
            "  [0.28712357]\n",
            "  [0.2645379 ]\n",
            "  [0.30698339]\n",
            "  [0.32113188]\n",
            "  [0.47663551]\n",
            "  [0.54413292]\n",
            "  [0.53569574]\n",
            "  [0.44483385]]\n",
            "\n",
            " [[0.36863967]\n",
            "  [0.30944964]\n",
            "  [0.2836189 ]\n",
            "  [0.47637591]\n",
            "  [0.29776739]\n",
            "  [0.20950156]\n",
            "  [0.23650052]\n",
            "  [0.28011423]\n",
            "  [0.40784008]\n",
            "  [0.33696781]\n",
            "  [0.29140706]\n",
            "  [0.28712357]\n",
            "  [0.2645379 ]\n",
            "  [0.30698339]\n",
            "  [0.32113188]\n",
            "  [0.47663551]\n",
            "  [0.54413292]\n",
            "  [0.53569574]\n",
            "  [0.44483385]\n",
            "  [0.41679647]]\n",
            "\n",
            " [[0.30944964]\n",
            "  [0.2836189 ]\n",
            "  [0.47637591]\n",
            "  [0.29776739]\n",
            "  [0.20950156]\n",
            "  [0.23650052]\n",
            "  [0.28011423]\n",
            "  [0.40784008]\n",
            "  [0.33696781]\n",
            "  [0.29140706]\n",
            "  [0.28712357]\n",
            "  [0.2645379 ]\n",
            "  [0.30698339]\n",
            "  [0.32113188]\n",
            "  [0.47663551]\n",
            "  [0.54413292]\n",
            "  [0.53569574]\n",
            "  [0.44483385]\n",
            "  [0.41679647]\n",
            "  [0.38200935]]\n",
            "\n",
            " [[0.2836189 ]\n",
            "  [0.47637591]\n",
            "  [0.29776739]\n",
            "  [0.20950156]\n",
            "  [0.23650052]\n",
            "  [0.28011423]\n",
            "  [0.40784008]\n",
            "  [0.33696781]\n",
            "  [0.29140706]\n",
            "  [0.28712357]\n",
            "  [0.2645379 ]\n",
            "  [0.30698339]\n",
            "  [0.32113188]\n",
            "  [0.47663551]\n",
            "  [0.54413292]\n",
            "  [0.53569574]\n",
            "  [0.44483385]\n",
            "  [0.41679647]\n",
            "  [0.38200935]\n",
            "  [0.38875909]]\n",
            "\n",
            " [[0.47637591]\n",
            "  [0.29776739]\n",
            "  [0.20950156]\n",
            "  [0.23650052]\n",
            "  [0.28011423]\n",
            "  [0.40784008]\n",
            "  [0.33696781]\n",
            "  [0.29140706]\n",
            "  [0.28712357]\n",
            "  [0.2645379 ]\n",
            "  [0.30698339]\n",
            "  [0.32113188]\n",
            "  [0.47663551]\n",
            "  [0.54413292]\n",
            "  [0.53569574]\n",
            "  [0.44483385]\n",
            "  [0.41679647]\n",
            "  [0.38200935]\n",
            "  [0.38875909]\n",
            "  [0.43444964]]\n",
            "\n",
            " [[0.29776739]\n",
            "  [0.20950156]\n",
            "  [0.23650052]\n",
            "  [0.28011423]\n",
            "  [0.40784008]\n",
            "  [0.33696781]\n",
            "  [0.29140706]\n",
            "  [0.28712357]\n",
            "  [0.2645379 ]\n",
            "  [0.30698339]\n",
            "  [0.32113188]\n",
            "  [0.47663551]\n",
            "  [0.54413292]\n",
            "  [0.53569574]\n",
            "  [0.44483385]\n",
            "  [0.41679647]\n",
            "  [0.38200935]\n",
            "  [0.38875909]\n",
            "  [0.43444964]\n",
            "  [0.43029595]]]\n"
          ]
        }
      ],
      "source": [
        "print(f'Predicción: \\n {y}')\n",
        "print(f'data: \\n {X}')"
      ]
    },
    {
      "cell_type": "code",
      "execution_count": 18,
      "metadata": {
        "id": "jKKoNxEnS3zq"
      },
      "outputs": [],
      "source": [
        ""
      ]
    },
    {
      "cell_type": "code",
      "execution_count": 19,
      "metadata": {
        "id": "DmhnmkHDO99T"
      },
      "outputs": [],
      "source": [
        "from tensorflow import keras\n",
        "from keras.models import Sequential\n",
        "from keras.layers import Dense\n",
        "from keras.layers import GRU\n",
        "from keras.layers import Dropout\n"
      ]
    },
    {
      "cell_type": "code",
      "execution_count": 20,
      "metadata": {
        "id": "3KMAjho9SBpJ"
      },
      "outputs": [],
      "source": [
        "from keras.layers.recurrent_v2 import LSTM\n",
        "# define model\n",
        "model = Sequential()\n",
        "model.add(LSTM(30, input_shape=(n_input,n_features+1),activation='relu',return_sequences=False))\n",
        "model.add(Dense(1, activation = \"linear\"))\n",
        "\n",
        "model.compile(loss='mse', optimizer='adam')"
      ]
    },
    {
      "cell_type": "code",
      "execution_count": 21,
      "metadata": {
        "id": "l5-aka9MezUl"
      },
      "outputs": [],
      "source": [
        "model1 = Sequential()\n",
        "model1.add(LSTM(30, input_shape=(n_input,n_features+1),activation='relu',return_sequences=False))\n",
        "model1.add(Dense(1, activation = \"linear\"))\n",
        "\n",
        "model1.compile(loss='mse', optimizer='adam')"
      ]
    },
    {
      "cell_type": "code",
      "source": [
        "model2 = Sequential()\n",
        "model2.add(LSTM(30, input_shape=(n_input,n_features+1),activation='relu',return_sequences=False))\n",
        "model2.add(Dense(1, activation = \"linear\"))\n",
        "\n",
        "model2.compile(loss='mse', optimizer='adam')"
      ],
      "metadata": {
        "id": "vAwNNkTEC1lp"
      },
      "execution_count": 22,
      "outputs": []
    },
    {
      "cell_type": "code",
      "source": [
        "model3 = Sequential()\n",
        "model3.add(LSTM(30, input_shape=(n_input,n_features+1),activation='relu',return_sequences=False))\n",
        "model3.add(Dense(1, activation = \"linear\"))\n",
        "\n",
        "model3.compile(loss='mse', optimizer='adam')"
      ],
      "metadata": {
        "id": "MVdmtZy9C1ih"
      },
      "execution_count": 23,
      "outputs": []
    },
    {
      "cell_type": "code",
      "execution_count": 24,
      "metadata": {
        "id": "FcUxCpIOSdr5",
        "colab": {
          "base_uri": "https://localhost:8080/"
        },
        "outputId": "aa710a59-f232-4d39-9846-9f01b3eb545d"
      },
      "outputs": [
        {
          "output_type": "stream",
          "name": "stdout",
          "text": [
            "Model: \"sequential\"\n",
            "_________________________________________________________________\n",
            " Layer (type)                Output Shape              Param #   \n",
            "=================================================================\n",
            " lstm (LSTM)                 (None, 30)                3840      \n",
            "                                                                 \n",
            " dense (Dense)               (None, 1)                 31        \n",
            "                                                                 \n",
            "=================================================================\n",
            "Total params: 3,871\n",
            "Trainable params: 3,871\n",
            "Non-trainable params: 0\n",
            "_________________________________________________________________\n"
          ]
        }
      ],
      "source": [
        "model.summary()"
      ]
    },
    {
      "cell_type": "code",
      "execution_count": 25,
      "metadata": {
        "id": "Hxiq93-dUZvY",
        "colab": {
          "base_uri": "https://localhost:8080/"
        },
        "outputId": "9f3c3900-7ada-4e6a-ea30-541c145acf6f"
      },
      "outputs": [
        {
          "output_type": "stream",
          "name": "stdout",
          "text": [
            "Epoch 1/10\n",
            "10/10 [==============================] - 3s 95ms/step - loss: 0.3199 - val_loss: 0.2504\n",
            "Epoch 2/10\n",
            "10/10 [==============================] - 1s 69ms/step - loss: 0.1974 - val_loss: 0.1815\n",
            "Epoch 3/10\n",
            "10/10 [==============================] - 1s 71ms/step - loss: 0.1468 - val_loss: 0.1094\n",
            "Epoch 4/10\n",
            "10/10 [==============================] - 1s 71ms/step - loss: 0.0778 - val_loss: 0.0439\n",
            "Epoch 5/10\n",
            "10/10 [==============================] - 1s 73ms/step - loss: 0.0121 - val_loss: 0.0119\n",
            "Epoch 6/10\n",
            "10/10 [==============================] - 1s 68ms/step - loss: 0.0089 - val_loss: 0.0090\n",
            "Epoch 7/10\n",
            "10/10 [==============================] - 1s 68ms/step - loss: 0.0137 - val_loss: 0.0079\n",
            "Epoch 8/10\n",
            "10/10 [==============================] - 1s 66ms/step - loss: 0.0074 - val_loss: 0.0075\n",
            "Epoch 9/10\n",
            "10/10 [==============================] - 1s 67ms/step - loss: 0.0054 - val_loss: 0.0089\n",
            "Epoch 10/10\n",
            "10/10 [==============================] - 1s 68ms/step - loss: 0.0142 - val_loss: 0.0080\n",
            "Epoch 1/10\n",
            "10/10 [==============================] - 2s 88ms/step - loss: 0.1858 - val_loss: 0.1775\n",
            "Epoch 2/10\n",
            "10/10 [==============================] - 1s 69ms/step - loss: 0.0971 - val_loss: 0.1001\n",
            "Epoch 3/10\n",
            "10/10 [==============================] - 1s 67ms/step - loss: 0.0919 - val_loss: 0.0283\n",
            "Epoch 4/10\n",
            "10/10 [==============================] - 1s 63ms/step - loss: 0.0140 - val_loss: 0.0125\n",
            "Epoch 5/10\n",
            "10/10 [==============================] - 1s 63ms/step - loss: 0.0215 - val_loss: 0.0074\n",
            "Epoch 6/10\n",
            "10/10 [==============================] - 1s 66ms/step - loss: 0.0084 - val_loss: 0.0140\n",
            "Epoch 7/10\n",
            "10/10 [==============================] - 1s 65ms/step - loss: 0.0095 - val_loss: 0.0107\n",
            "Epoch 8/10\n",
            "10/10 [==============================] - 1s 68ms/step - loss: 0.0060 - val_loss: 0.0074\n",
            "Epoch 9/10\n",
            "10/10 [==============================] - 1s 65ms/step - loss: 0.0048 - val_loss: 0.0083\n",
            "Epoch 10/10\n",
            "10/10 [==============================] - 1s 66ms/step - loss: 0.0155 - val_loss: 0.0083\n",
            "Epoch 1/10\n",
            "10/10 [==============================] - 2s 94ms/step - loss: 0.2600 - val_loss: 0.3076\n",
            "Epoch 2/10\n",
            "10/10 [==============================] - 1s 65ms/step - loss: 0.2346 - val_loss: 0.2388\n",
            "Epoch 3/10\n",
            "10/10 [==============================] - 1s 65ms/step - loss: 0.1814 - val_loss: 0.1758\n",
            "Epoch 4/10\n",
            "10/10 [==============================] - 1s 64ms/step - loss: 0.1158 - val_loss: 0.1197\n",
            "Epoch 5/10\n",
            "10/10 [==============================] - 1s 81ms/step - loss: 0.0740 - val_loss: 0.0667\n",
            "Epoch 6/10\n",
            "10/10 [==============================] - 1s 66ms/step - loss: 0.0363 - val_loss: 0.0154\n",
            "Epoch 7/10\n",
            "10/10 [==============================] - 1s 66ms/step - loss: 0.0107 - val_loss: 0.0093\n",
            "Epoch 8/10\n",
            "10/10 [==============================] - 1s 65ms/step - loss: 0.0120 - val_loss: 0.0108\n",
            "Epoch 9/10\n",
            "10/10 [==============================] - 1s 65ms/step - loss: 0.0135 - val_loss: 0.0150\n",
            "Epoch 10/10\n",
            "10/10 [==============================] - 1s 66ms/step - loss: 0.0059 - val_loss: 0.0175\n",
            "Epoch 1/10\n",
            "10/10 [==============================] - 2s 85ms/step - loss: 0.2279 - val_loss: 0.2931\n",
            "Epoch 2/10\n",
            "10/10 [==============================] - 1s 64ms/step - loss: 0.1724 - val_loss: 0.2271\n",
            "Epoch 3/10\n",
            "10/10 [==============================] - 1s 66ms/step - loss: 0.1862 - val_loss: 0.1683\n",
            "Epoch 4/10\n",
            "10/10 [==============================] - 1s 80ms/step - loss: 0.0925 - val_loss: 0.1163\n",
            "Epoch 5/10\n",
            "10/10 [==============================] - 1s 69ms/step - loss: 0.0707 - val_loss: 0.0758\n",
            "Epoch 6/10\n",
            "10/10 [==============================] - 1s 67ms/step - loss: 0.0437 - val_loss: 0.0365\n",
            "Epoch 7/10\n",
            "10/10 [==============================] - 1s 68ms/step - loss: 0.0207 - val_loss: 0.0116\n",
            "Epoch 8/10\n",
            "10/10 [==============================] - 1s 67ms/step - loss: 0.0137 - val_loss: 0.0084\n",
            "Epoch 9/10\n",
            "10/10 [==============================] - 1s 67ms/step - loss: 0.0123 - val_loss: 0.0099\n",
            "Epoch 10/10\n",
            "10/10 [==============================] - 1s 66ms/step - loss: 0.0094 - val_loss: 0.0093\n"
          ]
        },
        {
          "output_type": "execute_result",
          "data": {
            "text/plain": [
              "<keras.callbacks.History at 0x7fbf54d15c90>"
            ]
          },
          "metadata": {},
          "execution_count": 25
        }
      ],
      "source": [
        "model.fit(train_generator_1,steps_per_epoch=10, epochs=10,validation_data=test_generator_1)\n",
        "model1.fit(train_generator_1,steps_per_epoch=10, epochs=10,validation_data=test_generator_1)\n",
        "model2.fit(train_generator_1,steps_per_epoch=10, epochs=10,validation_data=test_generator_1)\n",
        "model3.fit(train_generator_1,steps_per_epoch=10, epochs=10,validation_data=test_generator_1)"
      ]
    },
    {
      "cell_type": "code",
      "execution_count": 26,
      "metadata": {
        "id": "CkKggwckUkjC",
        "colab": {
          "base_uri": "https://localhost:8080/",
          "height": 282
        },
        "outputId": "5f4af8aa-3e86-4c7c-f0a6-46345dc45206"
      },
      "outputs": [
        {
          "output_type": "execute_result",
          "data": {
            "text/plain": [
              "<matplotlib.legend.Legend at 0x7fbf531816d0>"
            ]
          },
          "metadata": {},
          "execution_count": 26
        },
        {
          "output_type": "display_data",
          "data": {
            "text/plain": [
              "<Figure size 432x288 with 1 Axes>"
            ],
            "image/png": "[encoded data removed]"
          },
          "metadata": {
            "needs_background": "light"
          }
        }
      ],
      "source": [
        "loss_per_epoch = model.history.history['loss']\n",
        "loss_vall=model.history.history['val_loss']\n",
        "plt.plot(range(len(loss_per_epoch)),loss_per_epoch,label=\"train-loss\")\n",
        "plt.plot(range(len(loss_vall)),loss_vall,label=\"validation-loss\")\n",
        "plt.legend()"
      ]
    },
    {
      "cell_type": "code",
      "execution_count": 27,
      "metadata": {
        "id": "8wT3KQi76mvv",
        "colab": {
          "base_uri": "https://localhost:8080/"
        },
        "outputId": "06c36350-6370-46fe-c22e-b90ff19410f8"
      },
      "outputs": [
        {
          "output_type": "stream",
          "name": "stdout",
          "text": [
            "Epoch 1/10\n",
            "10/10 [==============================] - 2s 216ms/step - loss: 0.0144 - val_loss: 0.0101\n",
            "Epoch 2/10\n",
            "10/10 [==============================] - 2s 217ms/step - loss: 0.0114 - val_loss: 0.0089\n",
            "Epoch 3/10\n",
            "10/10 [==============================] - 2s 209ms/step - loss: 0.0081 - val_loss: 0.0085\n",
            "Epoch 4/10\n",
            "10/10 [==============================] - 2s 211ms/step - loss: 0.0062 - val_loss: 0.0081\n",
            "Epoch 5/10\n",
            "10/10 [==============================] - 2s 218ms/step - loss: 0.0108 - val_loss: 0.0080\n",
            "Epoch 6/10\n",
            "10/10 [==============================] - 2s 213ms/step - loss: 0.0043 - val_loss: 0.0078\n",
            "Epoch 7/10\n",
            "10/10 [==============================] - 2s 214ms/step - loss: 0.0071 - val_loss: 0.0081\n",
            "Epoch 8/10\n",
            "10/10 [==============================] - 2s 223ms/step - loss: 0.0109 - val_loss: 0.0096\n",
            "Epoch 9/10\n",
            "10/10 [==============================] - 2s 218ms/step - loss: 0.0085 - val_loss: 0.0072\n",
            "Epoch 10/10\n",
            "10/10 [==============================] - 2s 212ms/step - loss: 0.0070 - val_loss: 0.0080\n",
            "Epoch 1/10\n",
            "10/10 [==============================] - 3s 297ms/step - loss: 0.0152 - val_loss: 0.0100\n",
            "Epoch 2/10\n",
            "10/10 [==============================] - 3s 295ms/step - loss: 0.0106 - val_loss: 0.0114\n",
            "Epoch 3/10\n",
            "10/10 [==============================] - 2s 211ms/step - loss: 0.0104 - val_loss: 0.0096\n",
            "Epoch 4/10\n",
            "10/10 [==============================] - 2s 209ms/step - loss: 0.0077 - val_loss: 0.0094\n",
            "Epoch 5/10\n",
            "10/10 [==============================] - 2s 211ms/step - loss: 0.0086 - val_loss: 0.0103\n",
            "Epoch 6/10\n",
            "10/10 [==============================] - 2s 213ms/step - loss: 0.0114 - val_loss: 0.0091\n",
            "Epoch 7/10\n",
            "10/10 [==============================] - 2s 214ms/step - loss: 0.0085 - val_loss: 0.0091\n",
            "Epoch 8/10\n",
            "10/10 [==============================] - 2s 211ms/step - loss: 0.0115 - val_loss: 0.0089\n",
            "Epoch 9/10\n",
            "10/10 [==============================] - 3s 294ms/step - loss: 0.0098 - val_loss: 0.0090\n",
            "Epoch 10/10\n",
            "10/10 [==============================] - 2s 213ms/step - loss: 0.0037 - val_loss: 0.0096\n",
            "Epoch 1/10\n",
            "10/10 [==============================] - 2s 208ms/step - loss: 0.0162 - val_loss: 0.0111\n",
            "Epoch 2/10\n",
            "10/10 [==============================] - 2s 206ms/step - loss: 0.0107 - val_loss: 0.0090\n",
            "Epoch 3/10\n",
            "10/10 [==============================] - 2s 209ms/step - loss: 0.0075 - val_loss: 0.0093\n",
            "Epoch 4/10\n",
            "10/10 [==============================] - 2s 208ms/step - loss: 0.0090 - val_loss: 0.0121\n",
            "Epoch 5/10\n",
            "10/10 [==============================] - 2s 222ms/step - loss: 0.0163 - val_loss: 0.0117\n",
            "Epoch 6/10\n",
            "10/10 [==============================] - 2s 213ms/step - loss: 0.0101 - val_loss: 0.0081\n",
            "Epoch 7/10\n",
            "10/10 [==============================] - 3s 294ms/step - loss: 0.0062 - val_loss: 0.0087\n",
            "Epoch 8/10\n",
            "10/10 [==============================] - 2s 212ms/step - loss: 0.0075 - val_loss: 0.0082\n",
            "Epoch 9/10\n",
            "10/10 [==============================] - 2s 211ms/step - loss: 0.0085 - val_loss: 0.0076\n",
            "Epoch 10/10\n",
            "10/10 [==============================] - 2s 207ms/step - loss: 0.0065 - val_loss: 0.0071\n"
          ]
        },
        {
          "output_type": "execute_result",
          "data": {
            "text/plain": [
              "<keras.callbacks.History at 0x7fbf530a6ed0>"
            ]
          },
          "metadata": {},
          "execution_count": 27
        }
      ],
      "source": [
        "model1.fit(train_generator_2,steps_per_epoch=10, epochs=10,validation_data=test_generator_2)\n",
        "model2.fit(train_generator_2,steps_per_epoch=10, epochs=10,validation_data=test_generator_2)\n",
        "model3.fit(train_generator_2,steps_per_epoch=10, epochs=10,validation_data=test_generator_2)"
      ]
    },
    {
      "cell_type": "code",
      "execution_count": 28,
      "metadata": {
        "id": "2wbSKjQr42Gt",
        "colab": {
          "base_uri": "https://localhost:8080/",
          "height": 282
        },
        "outputId": "6610b5f5-9ef1-448e-b037-0b5c63d9292f"
      },
      "outputs": [
        {
          "output_type": "execute_result",
          "data": {
            "text/plain": [
              "<matplotlib.legend.Legend at 0x7fbfc1da7590>"
            ]
          },
          "metadata": {},
          "execution_count": 28
        },
        {
          "output_type": "display_data",
          "data": {
            "text/plain": [
              "<Figure size 432x288 with 1 Axes>"
            ],
            "image/png": "[encoded data removed]"
          },
          "metadata": {
            "needs_background": "light"
          }
        }
      ],
      "source": [
        "loss_per_epoch = model1.history.history['loss']\n",
        "loss_vall=model1.history.history['val_loss']\n",
        "plt.plot(range(len(loss_per_epoch)),loss_per_epoch,label=\"train-loss\")\n",
        "plt.plot(range(len(loss_vall)),loss_vall,label=\"validation-loss\")\n",
        "plt.legend()"
      ]
    },
    {
      "cell_type": "code",
      "source": [
        "model2.fit(train_generator_3,steps_per_epoch=10, epochs=10,validation_data=test_generator_3)\n",
        "model3.fit(train_generator_3,steps_per_epoch=10, epochs=10,validation_data=test_generator_3)"
      ],
      "metadata": {
        "id": "kjxTFzzPAFJM",
        "colab": {
          "base_uri": "https://localhost:8080/"
        },
        "outputId": "fd6fe10c-46b5-43fd-f8f9-5dfe9490ae7c"
      },
      "execution_count": 29,
      "outputs": [
        {
          "output_type": "stream",
          "name": "stdout",
          "text": [
            "Epoch 1/10\n",
            "10/10 [==============================] - 1s 59ms/step - loss: 0.0122 - val_loss: 0.0131\n",
            "Epoch 2/10\n",
            "10/10 [==============================] - 1s 57ms/step - loss: 0.0139 - val_loss: 0.0125\n",
            "Epoch 3/10\n",
            "10/10 [==============================] - 1s 58ms/step - loss: 0.0089 - val_loss: 0.0125\n",
            "Epoch 4/10\n",
            "10/10 [==============================] - 1s 82ms/step - loss: 0.0095 - val_loss: 0.0122\n",
            "Epoch 5/10\n",
            "10/10 [==============================] - 1s 53ms/step - loss: 0.0100 - val_loss: 0.0113\n",
            "Epoch 6/10\n",
            "10/10 [==============================] - 1s 59ms/step - loss: 0.0088 - val_loss: 0.0129\n",
            "Epoch 7/10\n",
            "10/10 [==============================] - 1s 56ms/step - loss: 0.0069 - val_loss: 0.0114\n",
            "Epoch 8/10\n",
            "10/10 [==============================] - 1s 58ms/step - loss: 0.0072 - val_loss: 0.0118\n",
            "Epoch 9/10\n",
            "10/10 [==============================] - 1s 56ms/step - loss: 0.0066 - val_loss: 0.0118\n",
            "Epoch 10/10\n",
            "10/10 [==============================] - 1s 53ms/step - loss: 0.0114 - val_loss: 0.0120\n",
            "Epoch 1/10\n",
            "10/10 [==============================] - 1s 58ms/step - loss: 0.0091 - val_loss: 0.0108\n",
            "Epoch 2/10\n",
            "10/10 [==============================] - 1s 55ms/step - loss: 0.0054 - val_loss: 0.0107\n",
            "Epoch 3/10\n",
            "10/10 [==============================] - 1s 57ms/step - loss: 0.0081 - val_loss: 0.0104\n",
            "Epoch 4/10\n",
            "10/10 [==============================] - 1s 81ms/step - loss: 0.0086 - val_loss: 0.0106\n",
            "Epoch 5/10\n",
            "10/10 [==============================] - 1s 59ms/step - loss: 0.0044 - val_loss: 0.0104\n",
            "Epoch 6/10\n",
            "10/10 [==============================] - 1s 60ms/step - loss: 0.0104 - val_loss: 0.0103\n",
            "Epoch 7/10\n",
            "10/10 [==============================] - 1s 57ms/step - loss: 0.0042 - val_loss: 0.0116\n",
            "Epoch 8/10\n",
            "10/10 [==============================] - 1s 56ms/step - loss: 0.0084 - val_loss: 0.0107\n",
            "Epoch 9/10\n",
            "10/10 [==============================] - 1s 59ms/step - loss: 0.0053 - val_loss: 0.0106\n",
            "Epoch 10/10\n",
            "10/10 [==============================] - 1s 59ms/step - loss: 0.0065 - val_loss: 0.0110\n"
          ]
        },
        {
          "output_type": "execute_result",
          "data": {
            "text/plain": [
              "<keras.callbacks.History at 0x7fbfc1dc1a90>"
            ]
          },
          "metadata": {},
          "execution_count": 29
        }
      ]
    },
    {
      "cell_type": "code",
      "source": [
        "loss_per_epoch = model2.history.history['loss']\n",
        "loss_vall=model2.history.history['val_loss']\n",
        "plt.plot(range(len(loss_per_epoch)),loss_per_epoch,label=\"train-loss\")\n",
        "plt.plot(range(len(loss_vall)),loss_vall,label=\"validation-loss\")\n",
        "plt.legend()"
      ],
      "metadata": {
        "id": "nQQNfNqiAIIu",
        "colab": {
          "base_uri": "https://localhost:8080/",
          "height": 282
        },
        "outputId": "914757ba-7e45-4f36-f9bb-e63ce40780e6"
      },
      "execution_count": 30,
      "outputs": [
        {
          "output_type": "execute_result",
          "data": {
            "text/plain": [
              "<matplotlib.legend.Legend at 0x7fbf52fda810>"
            ]
          },
          "metadata": {},
          "execution_count": 30
        },
        {
          "output_type": "display_data",
          "data": {
            "text/plain": [
              "<Figure size 432x288 with 1 Axes>"
            ],
            "image/png": "[encoded data removed]"
          },
          "metadata": {
            "needs_background": "light"
          }
        }
      ]
    },
    {
      "cell_type": "code",
      "source": [
        "model3.fit(train_generator_3,steps_per_epoch=10, epochs=10,validation_data=test_generator_3)"
      ],
      "metadata": {
        "id": "4Ctnosj3AIEM",
        "colab": {
          "base_uri": "https://localhost:8080/"
        },
        "outputId": "0880447b-aa5c-4505-c8ff-ba8683d69d01"
      },
      "execution_count": 31,
      "outputs": [
        {
          "output_type": "stream",
          "name": "stdout",
          "text": [
            "Epoch 1/10\n",
            "10/10 [==============================] - 1s 68ms/step - loss: 0.0119 - val_loss: 0.0104\n",
            "Epoch 2/10\n",
            "10/10 [==============================] - 1s 59ms/step - loss: 0.0139 - val_loss: 0.0115\n",
            "Epoch 3/10\n",
            "10/10 [==============================] - 1s 59ms/step - loss: 0.0060 - val_loss: 0.0098\n",
            "Epoch 4/10\n",
            "10/10 [==============================] - 1s 56ms/step - loss: 0.0090 - val_loss: 0.0099\n",
            "Epoch 5/10\n",
            "10/10 [==============================] - 1s 81ms/step - loss: 0.0040 - val_loss: 0.0101\n",
            "Epoch 6/10\n",
            "10/10 [==============================] - 1s 56ms/step - loss: 0.0123 - val_loss: 0.0111\n",
            "Epoch 7/10\n",
            "10/10 [==============================] - 1s 57ms/step - loss: 0.0121 - val_loss: 0.0097\n",
            "Epoch 8/10\n",
            "10/10 [==============================] - 1s 55ms/step - loss: 0.0077 - val_loss: 0.0098\n",
            "Epoch 9/10\n",
            "10/10 [==============================] - 1s 57ms/step - loss: 0.0081 - val_loss: 0.0098\n",
            "Epoch 10/10\n",
            "10/10 [==============================] - 0s 53ms/step - loss: 0.0059 - val_loss: 0.0097\n"
          ]
        },
        {
          "output_type": "execute_result",
          "data": {
            "text/plain": [
              "<keras.callbacks.History at 0x7fbf52f548d0>"
            ]
          },
          "metadata": {},
          "execution_count": 31
        }
      ]
    },
    {
      "cell_type": "code",
      "source": [
        "loss_per_epoch = model3.history.history['loss']\n",
        "loss_vall=model3.history.history['val_loss']\n",
        "plt.plot(range(len(loss_per_epoch)),loss_per_epoch,label=\"train-loss\")\n",
        "plt.plot(range(len(loss_vall)),loss_vall,label=\"validation-loss\")\n",
        "plt.legend()"
      ],
      "metadata": {
        "id": "_wZL9317AH7f",
        "colab": {
          "base_uri": "https://localhost:8080/",
          "height": 282
        },
        "outputId": "a681b30e-4f6d-4e51-cdee-d6649d2a468c"
      },
      "execution_count": 32,
      "outputs": [
        {
          "output_type": "execute_result",
          "data": {
            "text/plain": [
              "<matplotlib.legend.Legend at 0x7fbf52f2de10>"
            ]
          },
          "metadata": {},
          "execution_count": 32
        },
        {
          "output_type": "display_data",
          "data": {
            "text/plain": [
              "<Figure size 432x288 with 1 Axes>"
            ],
            "image/png": "[encoded data removed]"
          },
          "metadata": {
            "needs_background": "light"
          }
        }
      ]
    },
    {
      "cell_type": "code",
      "execution_count": 33,
      "metadata": {
        "id": "h1bolW_ZBsc6"
      },
      "outputs": [],
      "source": [
        "test_predictions = []\n",
        "Q=100\n",
        "N=400\n",
        "first_eval_batch = scaled_1_train[Q:Q+n_input]\n",
        "current_batch = first_eval_batch.reshape((1, n_input, n_features+1))\n",
        "for i in range(N):\n",
        "    \n",
        "    # obtener la predicción ([0] es para obtener solo el número en lugar de [matriz])\n",
        "    current_pred = model.predict(current_batch)[0]\n",
        "    \n",
        "    # guardar la predicción\n",
        "    test_predictions.append(current_pred) \n",
        "    \n",
        "    # actualizar el lote para incluir ahora la predicción y soltar primer valor\n",
        "    current_batch = np.append(current_batch[:,1:,:],[[current_pred]],axis=1)"
      ]
    },
    {
      "cell_type": "code",
      "execution_count": 34,
      "metadata": {
        "id": "H6YpMTIsBsW7"
      },
      "outputs": [],
      "source": [
        "L_true=  list(data1[mesure[3]][n_input+1+Q:n_input+1+Q+N])"
      ]
    },
    {
      "cell_type": "code",
      "execution_count": 35,
      "metadata": {
        "id": "tZ90AKAiUka5"
      },
      "outputs": [],
      "source": [
        "\n",
        "trainPredict = model.predict(train_generator_1)\n",
        "trainPredict1= model1.predict(train_generator_1)\n",
        "trainPredict2 = model2.predict(train_generator_1)\n",
        "trainPredict3= model3.predict(train_generator_1)\n",
        "true_pre=scaler.inverse_transform(trainPredict)\n",
        "true_pre1=scaler.inverse_transform(trainPredict1)\n",
        "true_pre2=scaler.inverse_transform(trainPredict2)\n",
        "true_pre3=scaler.inverse_transform(trainPredict3)\n"
      ]
    },
    {
      "cell_type": "code",
      "execution_count": 36,
      "metadata": {
        "id": "NhP8_H47B0pd",
        "colab": {
          "base_uri": "https://localhost:8080/",
          "height": 356
        },
        "outputId": "dd844281-dfe4-48da-d3aa-cc03f051ee90"
      },
      "outputs": [
        {
          "output_type": "display_data",
          "data": {
            "text/plain": [
              "<Figure size 1080x360 with 1 Axes>"
            ],
            "image/png": "[encoded data removed]"
          },
          "metadata": {
            "needs_background": "light"
          }
        }
      ],
      "source": [
        "fig=plt.figure(figsize=(15,5))\n",
        "plt.suptitle('Time-Series Prediction')\n",
        "plt.plot(range(len(L_true)),true_pre[n_input+Q:n_input+Q+N],label='Prediction global model 0',c=\"green\")\n",
        "plt.plot(range(len(L_true)),true_pre1[n_input+Q:n_input+Q+N],label='Prediction global model 1',c=\"yellow\")\n",
        "plt.plot(range(len(L_true)),true_pre2[n_input+Q:n_input+Q+N],label='Prediction global model 2',c=\"blue\")\n",
        "plt.plot(range(len(L_true)),true_pre3[n_input+Q:n_input+Q+N],label='Prediction global model 3',c=\"purple\")\n",
        "plt.plot(range(len(L_true)),L_true,label='True value',c=\"red\")\n",
        "plt.legend()\n",
        "plt.show()"
      ]
    },
    {
      "cell_type": "code",
      "source": [
        "import json"
      ],
      "metadata": {
        "id": "WDSnXLHn1kGP"
      },
      "execution_count": 37,
      "outputs": []
    },
    {
      "cell_type": "code",
      "source": [
        "def create_Model(n_input,activa, LSTM_neurons = 100, layers=3,n_features=0):\n",
        "  # define model\n",
        "  model = Sequential()\n",
        "  if(layers>1):\n",
        "    model.add(LSTM(LSTM_neurons, activation=activa, input_shape=(n_input, n_features+1),return_sequences=True))\n",
        "    for i in range(layers-2):\n",
        "        model.add(LSTM(LSTM_neurons, activation=activa,return_sequences=True))\n",
        "    model.add(LSTM(LSTM_neurons, activation=activa))\n",
        "  else:\n",
        "    model.add(LSTM(LSTM_neurons, activation=activa, input_shape=(n_input, n_features+1)))\n",
        "  model.add(Dense(1))\n",
        "  model.compile(optimizer='adam', loss='mse')\n",
        "  return model"
      ],
      "metadata": {
        "id": "Muti0R0Xr1Um"
      },
      "execution_count": 38,
      "outputs": []
    },
    {
      "cell_type": "code",
      "source": [
        ""
      ],
      "metadata": {
        "id": "aRcI5NrhrMuf"
      },
      "execution_count": 38,
      "outputs": []
    },
    {
      "cell_type": "code",
      "source": [
        ""
      ],
      "metadata": {
        "id": "1J0m1m_BrNCk"
      },
      "execution_count": 38,
      "outputs": []
    },
    {
      "cell_type": "code",
      "source": [
        "activa=[\"relu\",\"elu\",\"exponential\",\"sigmoid\",\"tanh\",\"softsign\"]\n",
        "min_RMSE=10\n",
        "for activa1 in activa:\n",
        "  for Back_samples in range(18,28,2): #hasta dos días y medio hacia el pasado\n",
        "    for number_neurons in range(50,126,25): \n",
        "      for batch_size in range(50,201,50):\n",
        "        for num_layers in range(1,4): \n",
        "          #if((Back_samples,activa,number_neurons,batch_size,num_layers) in combinaciones_anteriores):\n",
        "           # continue\n",
        "          print({\n",
        "              'Retrasos':Back_samples,\n",
        "              'Activation':activa1,\n",
        "              'Neuronas LSTM':number_neurons,\n",
        "              'Batch size':batch_size,\n",
        "              'LSTM Layers': num_layers\n",
        "          })\n",
        "          n_input = Back_samples # horas hacia atrás\n",
        "          n_output = 1\n",
        "          n_features = 0 # variables exógenas\n",
        "          generator = TimeseriesGenerator(scaled_1_train, scaled_1_train, length=n_input, batch_size=n_output)\n",
        "          model = create_Model(n_input,activa1,LSTM_neurons=number_neurons,layers=num_layers,n_features=n_features)\n",
        "          model.fit(generator,epochs=7,verbose=False,batch_size=batch_size)\n",
        "          predictions = []\n",
        "          for j in range(n_input,len(list(test_data_1.iloc[:,2]))):\n",
        "            model_input = scaled_1_test[j-n_input:j]\n",
        "            model_input = model_input.reshape((1, n_input, n_features+1))\n",
        "            predictions.append(model.predict(model_input)[0])\n",
        "\n",
        "          predictions = np.ndarray.flatten(np.array(predictions))  \n",
        "          test_predictions =  np.zeros(shape=(len(predictions), 5))\n",
        "          test_predictions[:,0] = predictions\n",
        "          true_predictions = scaler.inverse_transform(test_predictions)\n",
        "          rsg_predictions = true_predictions[:,0]\n",
        "          true_values = np.ndarray.flatten(test_data_1.iloc[n_input:][mesure[2]].values)\n",
        "\n",
        "          errorMSE = mean_squared_error(true_values,rsg_predictions)\n",
        "          errorMAE = mean_absolute_error(true_values,rsg_predictions)\n",
        "          errorRMSE = np.sqrt(errorMSE)\n",
        "          if(errorRMSE<min_RMSE):\n",
        "            print('BEST')\n",
        "            model.save('./drive/MyDrive/DatosInvestigacion/LSTM_1_RS.h5')\n",
        "            min_RMSE = errorRMSE\n",
        "\n",
        "          print('RMSE:',errorRMSE)\n",
        "          print('MAE',errorMAE)\n",
        "          print('min RMSE',min_RMSE)\n",
        "          resultado = {\n",
        "              'Retrasos':Back_samples,\n",
        "              'Activation':activa1,\n",
        "              'Neuronas LSTM':number_neurons,\n",
        "              'Batch size':batch_size,\n",
        "              'LSTM Layers': num_layers,\n",
        "              'MSE':errorMSE,\n",
        "              'MAE':errorMAE,\n",
        "              'RMSE':errorRMSE\n",
        "          }\n",
        "          with open(\"./drive/MyDrive/DatosInvestigacion/resultados_LSTM_1_RS.txt\",\"a\") as file:\n",
        "            resultado = json.dumps(resultado)\n",
        "            file.write(resultado)\n",
        "            file.write('\\n')"
      ],
      "metadata": {
        "id": "hm7vWVgLr1PB",
        "colab": {
          "base_uri": "https://localhost:8080/",
          "height": 415
        },
        "outputId": "0ec230a8-0d05-4248-f9e4-5a43dc877070"
      },
      "execution_count": 39,
      "outputs": [
        {
          "output_type": "stream",
          "name": "stdout",
          "text": [
            "{'Retrasos': 18, 'Activation': 'relu', 'Neuronas LSTM': 50, 'Batch size': 50, 'LSTM Layers': 1}\n"
          ]
        },
        {
          "output_type": "error",
          "ename": "KeyboardInterrupt",
          "evalue": "ignored",
          "traceback": [
            "\u001b[0;31m---------------------------------------------------------------------------\u001b[0m",
            "\u001b[0;31mKeyboardInterrupt\u001b[0m                         Traceback (most recent call last)",
            "\u001b[0;32m<ipython-input-39-874c1547561d>\u001b[0m in \u001b[0;36m<module>\u001b[0;34m()\u001b[0m\n\u001b[1;32m     20\u001b[0m           \u001b[0mgenerator\u001b[0m \u001b[0;34m=\u001b[0m \u001b[0mTimeseriesGenerator\u001b[0m\u001b[0;34m(\u001b[0m\u001b[0mscaled_1_train\u001b[0m\u001b[0;34m,\u001b[0m \u001b[0mscaled_1_train\u001b[0m\u001b[0;34m,\u001b[0m \u001b[0mlength\u001b[0m\u001b[0;34m=\u001b[0m\u001b[0mn_input\u001b[0m\u001b[0;34m,\u001b[0m \u001b[0mbatch_size\u001b[0m\u001b[0;34m=\u001b[0m\u001b[0mn_output\u001b[0m\u001b[0;34m)\u001b[0m\u001b[0;34m\u001b[0m\u001b[0;34m\u001b[0m\u001b[0m\n\u001b[1;32m     21\u001b[0m           \u001b[0mmodel\u001b[0m \u001b[0;34m=\u001b[0m \u001b[0mcreate_Model\u001b[0m\u001b[0;34m(\u001b[0m\u001b[0mn_input\u001b[0m\u001b[0;34m,\u001b[0m\u001b[0mactiva1\u001b[0m\u001b[0;34m,\u001b[0m\u001b[0mLSTM_neurons\u001b[0m\u001b[0;34m=\u001b[0m\u001b[0mnumber_neurons\u001b[0m\u001b[0;34m,\u001b[0m\u001b[0mlayers\u001b[0m\u001b[0;34m=\u001b[0m\u001b[0mnum_layers\u001b[0m\u001b[0;34m,\u001b[0m\u001b[0mn_features\u001b[0m\u001b[0;34m=\u001b[0m\u001b[0mn_features\u001b[0m\u001b[0;34m)\u001b[0m\u001b[0;34m\u001b[0m\u001b[0;34m\u001b[0m\u001b[0m\n\u001b[0;32m---> 22\u001b[0;31m           \u001b[0mmodel\u001b[0m\u001b[0;34m.\u001b[0m\u001b[0mfit\u001b[0m\u001b[0;34m(\u001b[0m\u001b[0mgenerator\u001b[0m\u001b[0;34m,\u001b[0m\u001b[0mepochs\u001b[0m\u001b[0;34m=\u001b[0m\u001b[0;36m7\u001b[0m\u001b[0;34m,\u001b[0m\u001b[0mverbose\u001b[0m\u001b[0;34m=\u001b[0m\u001b[0;32mFalse\u001b[0m\u001b[0;34m,\u001b[0m\u001b[0mbatch_size\u001b[0m\u001b[0;34m=\u001b[0m\u001b[0mbatch_size\u001b[0m\u001b[0;34m)\u001b[0m\u001b[0;34m\u001b[0m\u001b[0;34m\u001b[0m\u001b[0m\n\u001b[0m\u001b[1;32m     23\u001b[0m           \u001b[0mpredictions\u001b[0m \u001b[0;34m=\u001b[0m \u001b[0;34m[\u001b[0m\u001b[0;34m]\u001b[0m\u001b[0;34m\u001b[0m\u001b[0;34m\u001b[0m\u001b[0m\n\u001b[1;32m     24\u001b[0m           \u001b[0;32mfor\u001b[0m \u001b[0mj\u001b[0m \u001b[0;32min\u001b[0m \u001b[0mrange\u001b[0m\u001b[0;34m(\u001b[0m\u001b[0mn_input\u001b[0m\u001b[0;34m,\u001b[0m\u001b[0mlen\u001b[0m\u001b[0;34m(\u001b[0m\u001b[0mlist\u001b[0m\u001b[0;34m(\u001b[0m\u001b[0mtest_data_1\u001b[0m\u001b[0;34m.\u001b[0m\u001b[0miloc\u001b[0m\u001b[0;34m[\u001b[0m\u001b[0;34m:\u001b[0m\u001b[0;34m,\u001b[0m\u001b[0;36m2\u001b[0m\u001b[0;34m]\u001b[0m\u001b[0;34m)\u001b[0m\u001b[0;34m)\u001b[0m\u001b[0;34m)\u001b[0m\u001b[0;34m:\u001b[0m\u001b[0;34m\u001b[0m\u001b[0;34m\u001b[0m\u001b[0m\n",
            "\u001b[0;32m/usr/local/lib/python3.7/dist-packages/keras/utils/traceback_utils.py\u001b[0m in \u001b[0;36merror_handler\u001b[0;34m(*args, **kwargs)\u001b[0m\n\u001b[1;32m     62\u001b[0m     \u001b[0mfiltered_tb\u001b[0m \u001b[0;34m=\u001b[0m \u001b[0;32mNone\u001b[0m\u001b[0;34m\u001b[0m\u001b[0;34m\u001b[0m\u001b[0m\n\u001b[1;32m     63\u001b[0m     \u001b[0;32mtry\u001b[0m\u001b[0;34m:\u001b[0m\u001b[0;34m\u001b[0m\u001b[0;34m\u001b[0m\u001b[0m\n\u001b[0;32m---> 64\u001b[0;31m       \u001b[0;32mreturn\u001b[0m \u001b[0mfn\u001b[0m\u001b[0;34m(\u001b[0m\u001b[0;34m*\u001b[0m\u001b[0margs\u001b[0m\u001b[0;34m,\u001b[0m \u001b[0;34m**\u001b[0m\u001b[0mkwargs\u001b[0m\u001b[0;34m)\u001b[0m\u001b[0;34m\u001b[0m\u001b[0;34m\u001b[0m\u001b[0m\n\u001b[0m\u001b[1;32m     65\u001b[0m     \u001b[0;32mexcept\u001b[0m \u001b[0mException\u001b[0m \u001b[0;32mas\u001b[0m \u001b[0me\u001b[0m\u001b[0;34m:\u001b[0m  \u001b[0;31m# pylint: disable=broad-except\u001b[0m\u001b[0;34m\u001b[0m\u001b[0;34m\u001b[0m\u001b[0m\n\u001b[1;32m     66\u001b[0m       \u001b[0mfiltered_tb\u001b[0m \u001b[0;34m=\u001b[0m \u001b[0m_process_traceback_frames\u001b[0m\u001b[0;34m(\u001b[0m\u001b[0me\u001b[0m\u001b[0;34m.\u001b[0m\u001b[0m__traceback__\u001b[0m\u001b[0;34m)\u001b[0m\u001b[0;34m\u001b[0m\u001b[0;34m\u001b[0m\u001b[0m\n",
            "\u001b[0;32m/usr/local/lib/python3.7/dist-packages/keras/engine/training.py\u001b[0m in \u001b[0;36mfit\u001b[0;34m(self, x, y, batch_size, epochs, verbose, callbacks, validation_split, validation_data, shuffle, class_weight, sample_weight, initial_epoch, steps_per_epoch, validation_steps, validation_batch_size, validation_freq, max_queue_size, workers, use_multiprocessing)\u001b[0m\n\u001b[1;32m   1382\u001b[0m                 _r=1):\n\u001b[1;32m   1383\u001b[0m               \u001b[0mcallbacks\u001b[0m\u001b[0;34m.\u001b[0m\u001b[0mon_train_batch_begin\u001b[0m\u001b[0;34m(\u001b[0m\u001b[0mstep\u001b[0m\u001b[0;34m)\u001b[0m\u001b[0;34m\u001b[0m\u001b[0;34m\u001b[0m\u001b[0m\n\u001b[0;32m-> 1384\u001b[0;31m               \u001b[0mtmp_logs\u001b[0m \u001b[0;34m=\u001b[0m \u001b[0mself\u001b[0m\u001b[0;34m.\u001b[0m\u001b[0mtrain_function\u001b[0m\u001b[0;34m(\u001b[0m\u001b[0miterator\u001b[0m\u001b[0;34m)\u001b[0m\u001b[0;34m\u001b[0m\u001b[0;34m\u001b[0m\u001b[0m\n\u001b[0m\u001b[1;32m   1385\u001b[0m               \u001b[0;32mif\u001b[0m \u001b[0mdata_handler\u001b[0m\u001b[0;34m.\u001b[0m\u001b[0mshould_sync\u001b[0m\u001b[0;34m:\u001b[0m\u001b[0;34m\u001b[0m\u001b[0;34m\u001b[0m\u001b[0m\n\u001b[1;32m   1386\u001b[0m                 \u001b[0mcontext\u001b[0m\u001b[0;34m.\u001b[0m\u001b[0masync_wait\u001b[0m\u001b[0;34m(\u001b[0m\u001b[0;34m)\u001b[0m\u001b[0;34m\u001b[0m\u001b[0;34m\u001b[0m\u001b[0m\n",
            "\u001b[0;32m/usr/local/lib/python3.7/dist-packages/tensorflow/python/util/traceback_utils.py\u001b[0m in \u001b[0;36merror_handler\u001b[0;34m(*args, **kwargs)\u001b[0m\n\u001b[1;32m    148\u001b[0m     \u001b[0mfiltered_tb\u001b[0m \u001b[0;34m=\u001b[0m \u001b[0;32mNone\u001b[0m\u001b[0;34m\u001b[0m\u001b[0;34m\u001b[0m\u001b[0m\n\u001b[1;32m    149\u001b[0m     \u001b[0;32mtry\u001b[0m\u001b[0;34m:\u001b[0m\u001b[0;34m\u001b[0m\u001b[0;34m\u001b[0m\u001b[0m\n\u001b[0;32m--> 150\u001b[0;31m       \u001b[0;32mreturn\u001b[0m \u001b[0mfn\u001b[0m\u001b[0;34m(\u001b[0m\u001b[0;34m*\u001b[0m\u001b[0margs\u001b[0m\u001b[0;34m,\u001b[0m \u001b[0;34m**\u001b[0m\u001b[0mkwargs\u001b[0m\u001b[0;34m)\u001b[0m\u001b[0;34m\u001b[0m\u001b[0;34m\u001b[0m\u001b[0m\n\u001b[0m\u001b[1;32m    151\u001b[0m     \u001b[0;32mexcept\u001b[0m \u001b[0mException\u001b[0m \u001b[0;32mas\u001b[0m \u001b[0me\u001b[0m\u001b[0;34m:\u001b[0m\u001b[0;34m\u001b[0m\u001b[0;34m\u001b[0m\u001b[0m\n\u001b[1;32m    152\u001b[0m       \u001b[0mfiltered_tb\u001b[0m \u001b[0;34m=\u001b[0m \u001b[0m_process_traceback_frames\u001b[0m\u001b[0;34m(\u001b[0m\u001b[0me\u001b[0m\u001b[0;34m.\u001b[0m\u001b[0m__traceback__\u001b[0m\u001b[0;34m)\u001b[0m\u001b[0;34m\u001b[0m\u001b[0;34m\u001b[0m\u001b[0m\n",
            "\u001b[0;32m/usr/local/lib/python3.7/dist-packages/tensorflow/python/eager/def_function.py\u001b[0m in \u001b[0;36m__call__\u001b[0;34m(self, *args, **kwds)\u001b[0m\n\u001b[1;32m    913\u001b[0m \u001b[0;34m\u001b[0m\u001b[0m\n\u001b[1;32m    914\u001b[0m       \u001b[0;32mwith\u001b[0m \u001b[0mOptionalXlaContext\u001b[0m\u001b[0;34m(\u001b[0m\u001b[0mself\u001b[0m\u001b[0;34m.\u001b[0m\u001b[0m_jit_compile\u001b[0m\u001b[0;34m)\u001b[0m\u001b[0;34m:\u001b[0m\u001b[0;34m\u001b[0m\u001b[0;34m\u001b[0m\u001b[0m\n\u001b[0;32m--> 915\u001b[0;31m         \u001b[0mresult\u001b[0m \u001b[0;34m=\u001b[0m \u001b[0mself\u001b[0m\u001b[0;34m.\u001b[0m\u001b[0m_call\u001b[0m\u001b[0;34m(\u001b[0m\u001b[0;34m*\u001b[0m\u001b[0margs\u001b[0m\u001b[0;34m,\u001b[0m \u001b[0;34m**\u001b[0m\u001b[0mkwds\u001b[0m\u001b[0;34m)\u001b[0m\u001b[0;34m\u001b[0m\u001b[0;34m\u001b[0m\u001b[0m\n\u001b[0m\u001b[1;32m    916\u001b[0m \u001b[0;34m\u001b[0m\u001b[0m\n\u001b[1;32m    917\u001b[0m       \u001b[0mnew_tracing_count\u001b[0m \u001b[0;34m=\u001b[0m \u001b[0mself\u001b[0m\u001b[0;34m.\u001b[0m\u001b[0mexperimental_get_tracing_count\u001b[0m\u001b[0;34m(\u001b[0m\u001b[0;34m)\u001b[0m\u001b[0;34m\u001b[0m\u001b[0;34m\u001b[0m\u001b[0m\n",
            "\u001b[0;32m/usr/local/lib/python3.7/dist-packages/tensorflow/python/eager/def_function.py\u001b[0m in \u001b[0;36m_call\u001b[0;34m(self, *args, **kwds)\u001b[0m\n\u001b[1;32m    945\u001b[0m       \u001b[0;31m# In this case we have created variables on the first call, so we run the\u001b[0m\u001b[0;34m\u001b[0m\u001b[0;34m\u001b[0m\u001b[0;34m\u001b[0m\u001b[0m\n\u001b[1;32m    946\u001b[0m       \u001b[0;31m# defunned version which is guaranteed to never create variables.\u001b[0m\u001b[0;34m\u001b[0m\u001b[0;34m\u001b[0m\u001b[0;34m\u001b[0m\u001b[0m\n\u001b[0;32m--> 947\u001b[0;31m       \u001b[0;32mreturn\u001b[0m \u001b[0mself\u001b[0m\u001b[0;34m.\u001b[0m\u001b[0m_stateless_fn\u001b[0m\u001b[0;34m(\u001b[0m\u001b[0;34m*\u001b[0m\u001b[0margs\u001b[0m\u001b[0;34m,\u001b[0m \u001b[0;34m**\u001b[0m\u001b[0mkwds\u001b[0m\u001b[0;34m)\u001b[0m  \u001b[0;31m# pylint: disable=not-callable\u001b[0m\u001b[0;34m\u001b[0m\u001b[0;34m\u001b[0m\u001b[0m\n\u001b[0m\u001b[1;32m    948\u001b[0m     \u001b[0;32melif\u001b[0m \u001b[0mself\u001b[0m\u001b[0;34m.\u001b[0m\u001b[0m_stateful_fn\u001b[0m \u001b[0;32mis\u001b[0m \u001b[0;32mnot\u001b[0m \u001b[0;32mNone\u001b[0m\u001b[0;34m:\u001b[0m\u001b[0;34m\u001b[0m\u001b[0;34m\u001b[0m\u001b[0m\n\u001b[1;32m    949\u001b[0m       \u001b[0;31m# Release the lock early so that multiple threads can perform the call\u001b[0m\u001b[0;34m\u001b[0m\u001b[0;34m\u001b[0m\u001b[0;34m\u001b[0m\u001b[0m\n",
            "\u001b[0;32m/usr/local/lib/python3.7/dist-packages/tensorflow/python/eager/function.py\u001b[0m in \u001b[0;36m__call__\u001b[0;34m(self, *args, **kwargs)\u001b[0m\n\u001b[1;32m   2955\u001b[0m        filtered_flat_args) = self._maybe_define_function(args, kwargs)\n\u001b[1;32m   2956\u001b[0m     return graph_function._call_flat(\n\u001b[0;32m-> 2957\u001b[0;31m         filtered_flat_args, captured_inputs=graph_function.captured_inputs)  # pylint: disable=protected-access\n\u001b[0m\u001b[1;32m   2958\u001b[0m \u001b[0;34m\u001b[0m\u001b[0m\n\u001b[1;32m   2959\u001b[0m   \u001b[0;34m@\u001b[0m\u001b[0mproperty\u001b[0m\u001b[0;34m\u001b[0m\u001b[0;34m\u001b[0m\u001b[0m\n",
            "\u001b[0;32m/usr/local/lib/python3.7/dist-packages/tensorflow/python/eager/function.py\u001b[0m in \u001b[0;36m_call_flat\u001b[0;34m(self, args, captured_inputs, cancellation_manager)\u001b[0m\n\u001b[1;32m   1852\u001b[0m       \u001b[0;31m# No tape is watching; skip to running the function.\u001b[0m\u001b[0;34m\u001b[0m\u001b[0;34m\u001b[0m\u001b[0;34m\u001b[0m\u001b[0m\n\u001b[1;32m   1853\u001b[0m       return self._build_call_outputs(self._inference_function.call(\n\u001b[0;32m-> 1854\u001b[0;31m           ctx, args, cancellation_manager=cancellation_manager))\n\u001b[0m\u001b[1;32m   1855\u001b[0m     forward_backward = self._select_forward_and_backward_functions(\n\u001b[1;32m   1856\u001b[0m         \u001b[0margs\u001b[0m\u001b[0;34m,\u001b[0m\u001b[0;34m\u001b[0m\u001b[0;34m\u001b[0m\u001b[0m\n",
            "\u001b[0;32m/usr/local/lib/python3.7/dist-packages/tensorflow/python/eager/function.py\u001b[0m in \u001b[0;36mcall\u001b[0;34m(self, ctx, args, cancellation_manager)\u001b[0m\n\u001b[1;32m    502\u001b[0m               \u001b[0minputs\u001b[0m\u001b[0;34m=\u001b[0m\u001b[0margs\u001b[0m\u001b[0;34m,\u001b[0m\u001b[0;34m\u001b[0m\u001b[0;34m\u001b[0m\u001b[0m\n\u001b[1;32m    503\u001b[0m               \u001b[0mattrs\u001b[0m\u001b[0;34m=\u001b[0m\u001b[0mattrs\u001b[0m\u001b[0;34m,\u001b[0m\u001b[0;34m\u001b[0m\u001b[0;34m\u001b[0m\u001b[0m\n\u001b[0;32m--> 504\u001b[0;31m               ctx=ctx)\n\u001b[0m\u001b[1;32m    505\u001b[0m         \u001b[0;32melse\u001b[0m\u001b[0;34m:\u001b[0m\u001b[0;34m\u001b[0m\u001b[0;34m\u001b[0m\u001b[0m\n\u001b[1;32m    506\u001b[0m           outputs = execute.execute_with_cancellation(\n",
            "\u001b[0;32m/usr/local/lib/python3.7/dist-packages/tensorflow/python/eager/execute.py\u001b[0m in \u001b[0;36mquick_execute\u001b[0;34m(op_name, num_outputs, inputs, attrs, ctx, name)\u001b[0m\n\u001b[1;32m     53\u001b[0m     \u001b[0mctx\u001b[0m\u001b[0;34m.\u001b[0m\u001b[0mensure_initialized\u001b[0m\u001b[0;34m(\u001b[0m\u001b[0;34m)\u001b[0m\u001b[0;34m\u001b[0m\u001b[0;34m\u001b[0m\u001b[0m\n\u001b[1;32m     54\u001b[0m     tensors = pywrap_tfe.TFE_Py_Execute(ctx._handle, device_name, op_name,\n\u001b[0;32m---> 55\u001b[0;31m                                         inputs, attrs, num_outputs)\n\u001b[0m\u001b[1;32m     56\u001b[0m   \u001b[0;32mexcept\u001b[0m \u001b[0mcore\u001b[0m\u001b[0;34m.\u001b[0m\u001b[0m_NotOkStatusException\u001b[0m \u001b[0;32mas\u001b[0m \u001b[0me\u001b[0m\u001b[0;34m:\u001b[0m\u001b[0;34m\u001b[0m\u001b[0;34m\u001b[0m\u001b[0m\n\u001b[1;32m     57\u001b[0m     \u001b[0;32mif\u001b[0m \u001b[0mname\u001b[0m \u001b[0;32mis\u001b[0m \u001b[0;32mnot\u001b[0m \u001b[0;32mNone\u001b[0m\u001b[0;34m:\u001b[0m\u001b[0;34m\u001b[0m\u001b[0;34m\u001b[0m\u001b[0m\n",
            "\u001b[0;31mKeyboardInterrupt\u001b[0m: "
          ]
        }
      ]
    },
    {
      "cell_type": "code",
      "source": [
        ""
      ],
      "metadata": {
        "id": "wh1UMrXkr1HT"
      },
      "execution_count": null,
      "outputs": []
    }
  ],
  "metadata": {
    "colab": {
      "collapsed_sections": [],
      "name": "prediction power lstm iterate",
      "provenance": [],
      "mount_file_id": "16-P-Q7l1pc0tYXj1Vt7lHi4w2hiKxz9F",
      "authorship_tag": "ABX9TyPeWlJg/Ykk8mT6AgdKtZkh",
      "include_colab_link": true
    },
    "kernelspec": {
      "display_name": "Python 3",
      "name": "python3"
    },
    "language_info": {
      "name": "python"
    },
    "gpuClass": "standard"
  },
  "nbformat": 4,
  "nbformat_minor": 0
}